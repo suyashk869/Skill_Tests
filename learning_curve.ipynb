{
 "cells": [
  {
   "cell_type": "code",
   "execution_count": 2,
   "id": "e30b15f5-2a13-46ba-99de-015d2024b710",
   "metadata": {},
   "outputs": [
    {
     "name": "stdout",
     "output_type": "stream",
     "text": [
      "Requirement already satisfied: pymannkendall in /home/ec2-user/anaconda3/envs/python3/lib/python3.10/site-packages (1.4.3)\r\n",
      "Requirement already satisfied: numpy in /home/ec2-user/anaconda3/envs/python3/lib/python3.10/site-packages (from pymannkendall) (1.26.4)\r\n",
      "Requirement already satisfied: scipy in /home/ec2-user/anaconda3/envs/python3/lib/python3.10/site-packages (from pymannkendall) (1.15.1)\r\n"
     ]
    }
   ],
   "source": [
    "import pandas as pd\n",
    "import numpy as np\n",
    "#import matplotlib.pyplot as plt\n",
    "#import seaborn as sns\n",
    "from scipy.stats import jarque_bera\n",
    "from scipy.stats import shapiro\n",
    "from scipy.stats import spearmanr\n",
    "from datetime import datetime\n",
    "import snowflake.connector as sf\n",
    "\n",
    "import scipy.stats\n",
    "!pip install pymannkendall\n",
    "import pymannkendall as mk"
   ]
  },
  {
   "cell_type": "code",
   "execution_count": 8,
   "id": "e97d9b4e-ad53-4f84-b985-60612b5d2592",
   "metadata": {},
   "outputs": [],
   "source": [
    "df=pd.read_csv('Learning_curve_data.csv',index_col=0)"
   ]
  },
  {
   "cell_type": "code",
   "execution_count": 9,
   "id": "a1843f6e",
   "metadata": {},
   "outputs": [
    {
     "data": {
      "text/html": [
       "<div>\n",
       "<style scoped>\n",
       "    .dataframe tbody tr th:only-of-type {\n",
       "        vertical-align: middle;\n",
       "    }\n",
       "\n",
       "    .dataframe tbody tr th {\n",
       "        vertical-align: top;\n",
       "    }\n",
       "\n",
       "    .dataframe thead th {\n",
       "        text-align: right;\n",
       "    }\n",
       "</style>\n",
       "<table border=\"1\" class=\"dataframe\">\n",
       "  <thead>\n",
       "    <tr style=\"text-align: right;\">\n",
       "      <th></th>\n",
       "      <th>EVENT_RANK</th>\n",
       "      <th>TOT_TRADERS</th>\n",
       "      <th>GROUP_WIN_PERCENTAGE</th>\n",
       "    </tr>\n",
       "  </thead>\n",
       "  <tbody>\n",
       "    <tr>\n",
       "      <th>0</th>\n",
       "      <td>1</td>\n",
       "      <td>37562</td>\n",
       "      <td>0.434641</td>\n",
       "    </tr>\n",
       "    <tr>\n",
       "      <th>1</th>\n",
       "      <td>2</td>\n",
       "      <td>37562</td>\n",
       "      <td>0.462036</td>\n",
       "    </tr>\n",
       "    <tr>\n",
       "      <th>2</th>\n",
       "      <td>3</td>\n",
       "      <td>37562</td>\n",
       "      <td>0.460332</td>\n",
       "    </tr>\n",
       "    <tr>\n",
       "      <th>3</th>\n",
       "      <td>4</td>\n",
       "      <td>37562</td>\n",
       "      <td>0.456552</td>\n",
       "    </tr>\n",
       "    <tr>\n",
       "      <th>4</th>\n",
       "      <td>5</td>\n",
       "      <td>37562</td>\n",
       "      <td>0.454475</td>\n",
       "    </tr>\n",
       "    <tr>\n",
       "      <th>...</th>\n",
       "      <td>...</td>\n",
       "      <td>...</td>\n",
       "      <td>...</td>\n",
       "    </tr>\n",
       "    <tr>\n",
       "      <th>355</th>\n",
       "      <td>356</td>\n",
       "      <td>37562</td>\n",
       "      <td>0.453171</td>\n",
       "    </tr>\n",
       "    <tr>\n",
       "      <th>356</th>\n",
       "      <td>357</td>\n",
       "      <td>37562</td>\n",
       "      <td>0.457297</td>\n",
       "    </tr>\n",
       "    <tr>\n",
       "      <th>357</th>\n",
       "      <td>358</td>\n",
       "      <td>37562</td>\n",
       "      <td>0.456232</td>\n",
       "    </tr>\n",
       "    <tr>\n",
       "      <th>358</th>\n",
       "      <td>359</td>\n",
       "      <td>37562</td>\n",
       "      <td>0.455700</td>\n",
       "    </tr>\n",
       "    <tr>\n",
       "      <th>359</th>\n",
       "      <td>360</td>\n",
       "      <td>37562</td>\n",
       "      <td>0.451121</td>\n",
       "    </tr>\n",
       "  </tbody>\n",
       "</table>\n",
       "<p>360 rows × 3 columns</p>\n",
       "</div>"
      ],
      "text/plain": [
       "     EVENT_RANK  TOT_TRADERS  GROUP_WIN_PERCENTAGE\n",
       "0             1        37562              0.434641\n",
       "1             2        37562              0.462036\n",
       "2             3        37562              0.460332\n",
       "3             4        37562              0.456552\n",
       "4             5        37562              0.454475\n",
       "..          ...          ...                   ...\n",
       "355         356        37562              0.453171\n",
       "356         357        37562              0.457297\n",
       "357         358        37562              0.456232\n",
       "358         359        37562              0.455700\n",
       "359         360        37562              0.451121\n",
       "\n",
       "[360 rows x 3 columns]"
      ]
     },
     "execution_count": 9,
     "metadata": {},
     "output_type": "execute_result"
    }
   ],
   "source": [
    "df"
   ]
  },
  {
   "cell_type": "code",
   "execution_count": 16,
   "id": "9c0fcdfe-84a7-4b75-8869-fdcc22dbd535",
   "metadata": {},
   "outputs": [
    {
     "name": "stdout",
     "output_type": "stream",
     "text": [
      "The correlation of the GROUP_WIN_PERCENTAGE against the Event Ranks is 0.5863131693166502\n",
      "The p value for the correlation of the GROUP_WIN_PERCENTAGE against the Event Rank is 6.413782264643189e-35\n",
      "The net trend of the GROUP_WIN_PERCENTAGE against the Event Ranks is increasing\n",
      "The p value for the net trend of the GROUP_WIN_PERCENTAGE against the Event Rank is 0.0\n"
     ]
    }
   ],
   "source": [
    "df=pd.read_csv('Learning_curve_data.csv')\n",
    "df=df.astype('float32')\n",
    "  \n",
    "d={}\n",
    "\n",
    "statistic=spearmanr(df['GROUP_WIN_PERCENTAGE'],df['EVENT_RANK'],alternative='greater')[0]\n",
    "pvalue=spearmanr(df['GROUP_WIN_PERCENTAGE'],df['EVENT_RANK'],alternative='greater')[1]\n",
    "\n",
    "\n",
    "\n",
    "\n",
    "d['spearman_correlation_statistic']=statistic\n",
    "d['spearman_correlation_pvalue']=pvalue\n",
    "\n",
    "if (pvalue>0.05):\n",
    "\n",
    "     d['spearman_correlation_result']='insignificant'\n",
    "\n",
    "else:\n",
    "\n",
    "     d['spearman_correlation_result']='significant'\n",
    "        \n",
    "\n",
    "print('The correlation of the GROUP_WIN_PERCENTAGE against the Event Ranks is', statistic)\n",
    "print('The p value for the correlation of the GROUP_WIN_PERCENTAGE against the Event Rank is',pvalue)\n",
    "\n",
    "\n",
    "res=mk.original_test(df['GROUP_WIN_PERCENTAGE'])\n",
    "\n",
    "pval=res[2]\n",
    "trend=res[0]\n",
    "\n",
    "\n",
    "print('The net trend of the GROUP_WIN_PERCENTAGE against the Event Ranks is', trend)\n",
    "print('The p value for the net trend of the GROUP_WIN_PERCENTAGE against the Event Rank is',pval)\n",
    "\n",
    "\n",
    "\n",
    "\n",
    "if (pval>0.05):\n",
    "\n",
    "    d['trend_analysis_result']='insignificant'\n",
    "\n",
    "else:\n",
    "\n",
    "    d['trend_analysis_result']='significant'\n",
    "\n",
    "d['trend_analysis_pvalue']=pval\n",
    "\n",
    "d['trend']=trend\n",
    "\n",
    "traders=df['TOT_TRADERS'].mean()\n",
    "\n",
    "d['tot_traders']=traders\n",
    "\n",
    "\n"
   ]
  },
  {
   "cell_type": "code",
   "execution_count": 15,
   "id": "b32a528b",
   "metadata": {},
   "outputs": [
    {
     "name": "stdout",
     "output_type": "stream",
     "text": [
      "{'spearman_correlation_statistic': 0.5863131693166502, 'spearman_correlation_pvalue': 6.413782264643189e-35, 'spearman_correlation_result': 'significant', 'trend_analysis_result': 'significant', 'trend_analysis_pvalue': 0.0, 'trend': 'increasing', 'tot_traders': 37562.0}\n"
     ]
    }
   ],
   "source": [
    "#print output dictionary\n",
    "print(d)"
   ]
  }
 ],
 "metadata": {
  "kernelspec": {
   "display_name": "conda_python3",
   "language": "python",
   "name": "conda_python3"
  },
  "language_info": {
   "codemirror_mode": {
    "name": "ipython",
    "version": 3
   },
   "file_extension": ".py",
   "mimetype": "text/x-python",
   "name": "python",
   "nbconvert_exporter": "python",
   "pygments_lexer": "ipython3",
   "version": "3.10.16"
  }
 },
 "nbformat": 4,
 "nbformat_minor": 5
}
